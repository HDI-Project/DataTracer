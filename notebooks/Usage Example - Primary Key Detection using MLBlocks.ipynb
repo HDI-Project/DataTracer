{
 "cells": [
  {
   "cell_type": "code",
   "execution_count": 1,
   "metadata": {},
   "outputs": [],
   "source": [
    "import os\n",
    "\n",
    "from datatracer.dataset import Dataset\n",
    "\n",
    "datasets_path = 'datasets'\n",
    "\n",
    "datasets = [\n",
    "    Dataset(os.path.join(datasets_path, dataset, 'metadata.json'))\n",
    "    for dataset in os.listdir(datasets_path)\n",
    "]"
   ]
  },
  {
   "cell_type": "code",
   "execution_count": 2,
   "metadata": {},
   "outputs": [],
   "source": [
    "train = datasets[1:]\n",
    "test = datasets[0]"
   ]
  },
  {
   "cell_type": "code",
   "execution_count": 3,
   "metadata": {},
   "outputs": [],
   "source": [
    "primary_keys = {\n",
    "    name: table.metadata.pop('primary_key')\n",
    "    for name, table in test.tables.items()\n",
    "}"
   ]
  },
  {
   "cell_type": "code",
   "execution_count": 4,
   "metadata": {},
   "outputs": [
    {
     "data": {
      "text/plain": [
       "dict_keys(['name', 'fields'])"
      ]
     },
     "execution_count": 4,
     "metadata": {},
     "output_type": "execute_result"
    }
   ],
   "source": [
    "test.tables['Actions'].metadata.keys()"
   ]
  },
  {
   "cell_type": "code",
   "execution_count": 5,
   "metadata": {},
   "outputs": [],
   "source": [
    "from mlblocks import MLPipeline"
   ]
  },
  {
   "cell_type": "code",
   "execution_count": 6,
   "metadata": {},
   "outputs": [
    {
     "data": {
      "text/plain": [
       "['datatracer.analysis.count_rows',\n",
       " 'datatracer.analysis.count_uniques',\n",
       " 'datatracer.analysis.infer_dtypes',\n",
       " 'datatracer.detection.primary.BasicPrimaryKeyDetector']"
      ]
     },
     "execution_count": 6,
     "metadata": {},
     "output_type": "execute_result"
    }
   ],
   "source": [
    "from datatracer import get_primitives\n",
    "\n",
    "get_primitives()"
   ]
  },
  {
   "cell_type": "code",
   "execution_count": 7,
   "metadata": {},
   "outputs": [
    {
     "data": {
      "text/plain": [
       "['datatracer.detection.primary']"
      ]
     },
     "execution_count": 7,
     "metadata": {},
     "output_type": "execute_result"
    }
   ],
   "source": [
    "from datatracer import get_pipelines\n",
    "\n",
    "get_pipelines()"
   ]
  },
  {
   "cell_type": "code",
   "execution_count": 8,
   "metadata": {},
   "outputs": [],
   "source": [
    "primitives = [\n",
    "    'datatracer.analysis.count_rows',\n",
    "    'datatracer.analysis.infer_dtypes',\n",
    "    'datatracer.analysis.count_uniques',\n",
    "    'datatracer.detection.primary.BasicPrimaryKeyDetector'\n",
    "]\n",
    "pipeline = MLPipeline(primitives)"
   ]
  },
  {
   "cell_type": "code",
   "execution_count": 9,
   "metadata": {},
   "outputs": [],
   "source": [
    "pipeline.fit(data=train)"
   ]
  },
  {
   "cell_type": "code",
   "execution_count": 10,
   "metadata": {},
   "outputs": [],
   "source": [
    "pipeline.predict(data=test)"
   ]
  },
  {
   "cell_type": "code",
   "execution_count": 11,
   "metadata": {},
   "outputs": [],
   "source": [
    "found = {\n",
    "    name: table.metadata['primary_key']\n",
    "    for name, table in test.tables.items()\n",
    "}"
   ]
  },
  {
   "cell_type": "code",
   "execution_count": 12,
   "metadata": {},
   "outputs": [
    {
     "data": {
      "text/plain": [
       "{'Actions': ['GameId', 'PlayerId'],\n",
       " 'Game': 'GameId',\n",
       " 'Player': 'PlayerId',\n",
       " 'Team': 'TeamId'}"
      ]
     },
     "execution_count": 12,
     "metadata": {},
     "output_type": "execute_result"
    }
   ],
   "source": [
    "primary_keys"
   ]
  },
  {
   "cell_type": "code",
   "execution_count": 13,
   "metadata": {},
   "outputs": [
    {
     "data": {
      "text/plain": [
       "{'Actions': 'GameId', 'Game': 'GameId', 'Player': 'PlayerId', 'Team': 'TeamId'}"
      ]
     },
     "execution_count": 13,
     "metadata": {},
     "output_type": "execute_result"
    }
   ],
   "source": [
    "found"
   ]
  },
  {
   "cell_type": "code",
   "execution_count": 14,
   "metadata": {
    "scrolled": false
   },
   "outputs": [
    {
     "data": {
      "text/plain": [
       "{'name': 'Actions',\n",
       " 'fields': [{'name': 'GameId',\n",
       "   'data_type': 'numerical',\n",
       "   'subtype': 'integer',\n",
       "   'number_of_uniques': 30},\n",
       "  {'name': 'TeamId',\n",
       "   'data_type': 'numerical',\n",
       "   'subtype': 'integer',\n",
       "   'number_of_uniques': 30},\n",
       "  {'name': 'PlayerId',\n",
       "   'data_type': 'numerical',\n",
       "   'subtype': 'integer',\n",
       "   'number_of_uniques': 392},\n",
       "  {'name': 'Minutes',\n",
       "   'data_type': 'numerical',\n",
       "   'subtype': 'integer',\n",
       "   'number_of_uniques': 532},\n",
       "  {'name': 'FieldGoalsMade',\n",
       "   'data_type': 'numerical',\n",
       "   'subtype': 'integer',\n",
       "   'number_of_uniques': 16},\n",
       "  {'name': 'FieldGoalAttempts',\n",
       "   'data_type': 'numerical',\n",
       "   'subtype': 'integer',\n",
       "   'number_of_uniques': 26},\n",
       "  {'name': '3PointsMade',\n",
       "   'data_type': 'numerical',\n",
       "   'subtype': 'integer',\n",
       "   'number_of_uniques': 1},\n",
       "  {'name': '3PointAttempts',\n",
       "   'data_type': 'numerical',\n",
       "   'subtype': 'integer',\n",
       "   'number_of_uniques': 1},\n",
       "  {'name': 'FreeThrowsMade',\n",
       "   'data_type': 'numerical',\n",
       "   'subtype': 'integer',\n",
       "   'number_of_uniques': 14},\n",
       "  {'name': 'FreeThrowAttempts',\n",
       "   'data_type': 'numerical',\n",
       "   'subtype': 'integer',\n",
       "   'number_of_uniques': 16},\n",
       "  {'name': 'PlusMinus',\n",
       "   'data_type': 'numerical',\n",
       "   'subtype': 'integer',\n",
       "   'number_of_uniques': 63},\n",
       "  {'name': 'OffensiveRebounds',\n",
       "   'data_type': 'numerical',\n",
       "   'subtype': 'integer',\n",
       "   'number_of_uniques': 10},\n",
       "  {'name': 'DefensiveRebounds',\n",
       "   'data_type': 'numerical',\n",
       "   'subtype': 'integer',\n",
       "   'number_of_uniques': 16},\n",
       "  {'name': 'TotalRebounds',\n",
       "   'data_type': 'numerical',\n",
       "   'subtype': 'integer',\n",
       "   'number_of_uniques': 20},\n",
       "  {'name': 'Assists',\n",
       "   'data_type': 'numerical',\n",
       "   'subtype': 'integer',\n",
       "   'number_of_uniques': 14},\n",
       "  {'name': 'PersonalFouls',\n",
       "   'data_type': 'numerical',\n",
       "   'subtype': 'integer',\n",
       "   'number_of_uniques': 7},\n",
       "  {'name': 'Steals',\n",
       "   'data_type': 'numerical',\n",
       "   'subtype': 'integer',\n",
       "   'number_of_uniques': 6},\n",
       "  {'name': 'Turnovers',\n",
       "   'data_type': 'numerical',\n",
       "   'subtype': 'integer',\n",
       "   'number_of_uniques': 8},\n",
       "  {'name': 'BlockedShots',\n",
       "   'data_type': 'numerical',\n",
       "   'subtype': 'integer',\n",
       "   'number_of_uniques': 6},\n",
       "  {'name': 'BlocksAgainst',\n",
       "   'data_type': 'numerical',\n",
       "   'subtype': 'integer',\n",
       "   'number_of_uniques': 6},\n",
       "  {'name': 'Points',\n",
       "   'data_type': 'numerical',\n",
       "   'subtype': 'integer',\n",
       "   'number_of_uniques': 36},\n",
       "  {'name': 'Starter',\n",
       "   'data_type': 'numerical',\n",
       "   'subtype': 'integer',\n",
       "   'number_of_uniques': 2},\n",
       "  {'name': 'random_value',\n",
       "   'data_type': 'numerical',\n",
       "   'subtype': 'float',\n",
       "   'number_of_uniques': 767},\n",
       "  {'name': 'add_numerical',\n",
       "   'data_type': 'numerical',\n",
       "   'subtype': 'integer',\n",
       "   'number_of_uniques': 9}],\n",
       " 'number_of_rows': 767,\n",
       " 'primary_key': 'GameId'}"
      ]
     },
     "execution_count": 14,
     "metadata": {},
     "output_type": "execute_result"
    }
   ],
   "source": [
    "test.tables['Actions'].metadata"
   ]
  }
 ],
 "metadata": {
  "kernelspec": {
   "display_name": "Python 3",
   "language": "python",
   "name": "python3"
  },
  "language_info": {
   "codemirror_mode": {
    "name": "ipython",
    "version": 3
   },
   "file_extension": ".py",
   "mimetype": "text/x-python",
   "name": "python",
   "nbconvert_exporter": "python",
   "pygments_lexer": "ipython3",
   "version": "3.6.9"
  }
 },
 "nbformat": 4,
 "nbformat_minor": 4
}
